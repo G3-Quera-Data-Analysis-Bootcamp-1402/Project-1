{
 "cells": [
  {
   "cell_type": "code",
   "execution_count": 12,
   "metadata": {},
   "outputs": [],
   "source": [
    "import requests\n",
    "from bs4 import BeautifulSoup\n",
    "import pandas as pd"
   ]
  },
  {
   "cell_type": "code",
   "execution_count": 14,
   "metadata": {},
   "outputs": [],
   "source": [
    "import requests\n",
    "from bs4 import BeautifulSoup\n",
    "import pandas as pd\n",
    "\n",
    "def top_league(n):\n",
    "    headers = {'User-Agent': 'Mozilla/5.0 (X11; Linux x86_64) AppleWebKit/537.36 (KHTML,   Gecko) Chrome/47.0.2526.106 Safari/537.36'}\n",
    "\n",
    "    page = \"https://www.transfermarkt.co.uk/wettbewerbe/europa\"\n",
    "    pageTree = requests.get(page, headers=headers)\n",
    "    pageSoup = BeautifulSoup(pageTree.content, 'html.parser')\n",
    "\n",
    "    links = pageSoup.find_all(\"tr\")\n",
    "\n",
    "    site = 'https://www.transfermarkt.co.uk'\n",
    "    s20_string = \"/plus/?saison_id=2020\"\n",
    "\n",
    "    top_leagues = []\n",
    "    for a in list(range(2, ((n*2)+1), 2)):\n",
    "        top_leagues.append((site + (str(links[a]).split('href=\"', 5)[2].split('\"')[0]) + s20_string))\n",
    "\n",
    "    teams = []\n",
    "    for a in top_leagues:\n",
    "        page = a\n",
    "        pageTree = requests.get(page, headers=headers)\n",
    "        pageSoup = BeautifulSoup(pageTree.content, 'html.parser')\n",
    "\n",
    "        links2 = pageSoup.find_all(\"a\", {\"class\": \"vereinprofil_tooltip\"})\n",
    "        site = 'https://www.transfermarkt.co.uk'\n",
    "        s21_string = \"/plus/?saison_id=2021\"\n",
    "\n",
    "        if a == \"https://www.transfermarkt.co.uk/bundesliga/startseite/wettbewerb/L1/plus/?saison_id=2020\" or a == \"https://www.transfermarkt.co.uk/liga-portugal-bwin/startseite/wettbewerb/PO1/plus/?saison_id=2020\" or a == \"'https://www.transfermarkt.co.uk/eredivisie/startseite/wettbewerb/NL1/plus/?saison_id=2020 '\":\n",
    "            for b in list(range(0, (18*3), 3)):\n",
    "                team_url = (site + (str(links2[b]).split('href=\"')[1].split('\">')[0])).split(\"/saison_id\")[0] + s21_string\n",
    "                teams.append({\n",
    "                    'Team Name': links2[b].text,\n",
    "                    'Club Awards': \"\",  # Replace with the appropriate club awards information\n",
    "                    'Stadium Name': \"\"  # Replace with the appropriate stadium name\n",
    "                })\n",
    "        elif a == 'https://www.transfermarkt.co.uk/premier-liga/startseite/wettbewerb/RU1/plus/?saison_id=2020':\n",
    "            for b in list(range(0, (16*3), 3)):\n",
    "                team_url = (site + (str(links2[b]).split('href=\"')[1].split('\">')[0])).split(\"/saison_id\")[0] + s21_string\n",
    "                teams.append({\n",
    "                    'Team Name': links2[b].text,\n",
    "                    'Club Awards': \"\",  # Replace with the appropriate club awards information\n",
    "                    'Stadium Name': \"\"  # Replace with the appropriate stadium name\n",
    "                })\n",
    "        else:\n",
    "            for b in list(range(0, (20*3), 3)):\n",
    "                team_url = (site + (str(links2[b]).split('href=\"')[1].split('\">')[0])).split(\"/saison_id\")[0] + s21_string\n",
    "                teams.append({\n",
    "                    'Team Name': links2[b].text,\n",
    "                    'Club Awards': \"\",  # Replace with the appropriate club awards information\n",
    "                    'Stadium Name': \"\"  # Replace with the appropriate stadium name\n",
    "                })\n",
    "\n",
    "    df = pd.DataFrame(teams)\n",
    "    return df\n"
   ]
  }
 ],
 "metadata": {
  "kernelspec": {
   "display_name": "Python 3",
   "language": "python",
   "name": "python3"
  },
  "language_info": {
   "codemirror_mode": {
    "name": "ipython",
    "version": 3
   },
   "file_extension": ".py",
   "mimetype": "text/x-python",
   "name": "python",
   "nbconvert_exporter": "python",
   "pygments_lexer": "ipython3",
   "version": "3.11.2"
  },
  "orig_nbformat": 4
 },
 "nbformat": 4,
 "nbformat_minor": 2
}
