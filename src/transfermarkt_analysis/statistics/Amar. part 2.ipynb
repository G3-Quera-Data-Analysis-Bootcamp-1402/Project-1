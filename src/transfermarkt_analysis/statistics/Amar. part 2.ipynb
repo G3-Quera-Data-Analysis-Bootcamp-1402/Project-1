{
 "cells": [
  {
   "cell_type": "code",
   "execution_count": null,
   "metadata": {},
   "outputs": [],
   "source": [
    "'''compare the distribution of estimated prices of sold players in each season with the actual transfer prices of each season\n",
    "(excluding free transfers):\n",
    "using dataset that contains the estimated and actual transfer prices of football players from 2017-2018 to 2021-2022.\n",
    "'''\n",
    "\n",
    "import pandas as pd\n",
    "import matplotlib.pyplot as plt\n",
    "\n",
    "# Load the data\n",
    "df = pd.read_csv('data.csv')\n",
    "\n",
    "# Plot the estimated and actual transfer prices\n",
    "plt.plot(df['Season'], df['Estimated Price'], label='Estimated Price')\n",
    "plt.plot(df['Season'], df['Actual Transfer Price'], label='Actual Transfer Price')\n",
    "\n",
    "# Add labels and title\n",
    "plt.xlabel('Season')\n",
    "plt.ylabel('Price')\n",
    "plt.title('Comparison of Estimated and Actual Transfer Prices')\n",
    "\n",
    "# Add legend\n",
    "plt.legend()\n",
    "\n",
    "# Show the plot\n",
    "plt.show()\n"
   ]
  }
 ],
 "metadata": {
  "kernelspec": {
   "display_name": "Python 3",
   "language": "python",
   "name": "python3"
  },
  "language_info": {
   "name": "python",
   "version": "3.10.3"
  },
  "orig_nbformat": 4
 },
 "nbformat": 4,
 "nbformat_minor": 2
}
